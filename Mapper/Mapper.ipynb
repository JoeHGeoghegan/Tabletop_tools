{
 "cells": [
  {
   "cell_type": "code",
   "execution_count": null,
   "metadata": {},
   "outputs": [],
   "source": [
    "# Imports\n",
    "import streamlit as st\n",
    "from dataclasses import dataclass\n",
    "import pandas as pd"
   ]
  },
  {
   "cell_type": "markdown",
   "metadata": {},
   "source": [
    "# Content Class"
   ]
  },
  {
   "cell_type": "code",
   "execution_count": null,
   "metadata": {},
   "outputs": [],
   "source": [
    "class Content:\n",
    "    name:str\n",
    "    status:dict\n",
    "    \n",
    "    def __init__(self,name,status):\n",
    "        self.name = name\n",
    "        self.status = status\n",
    "\n",
    "    def __init__(self):\n",
    "        self.name = \"\"\n",
    "        self.status = {}\n",
    "    \n",
    "    def set_attribute(self,status_key,new_value):\n",
    "        try:\n",
    "            self.status[status_key] = new_value\n",
    "        except:\n",
    "            return st.write(\"ERROR: Setting attribute failed\")"
   ]
  },
  {
   "cell_type": "markdown",
   "metadata": {},
   "source": [
    "# Cell Class"
   ]
  },
  {
   "cell_type": "code",
   "execution_count": null,
   "metadata": {},
   "outputs": [],
   "source": [
    "class Cell:\n",
    "    color:str\n",
    "    X:int\n",
    "    Y:int\n",
    "    contents:Content = Content()\n",
    "    def __init__(self,X,Y):\n",
    "        self.color = \"white\"\n",
    "        self.X = X\n",
    "        self.Y = Y\n",
    "        self.contents = None\n",
    "\n",
    "    "
   ]
  },
  {
   "cell_type": "markdown",
   "metadata": {},
   "source": [
    "# Streamlit Data Handling"
   ]
  },
  {
   "cell_type": "code",
   "execution_count": null,
   "metadata": {},
   "outputs": [],
   "source": [
    "@dataclass\n",
    "class gameboard:\n",
    "    grid:pd.DataFrame"
   ]
  },
  {
   "cell_type": "code",
   "execution_count": null,
   "metadata": {},
   "outputs": [],
   "source": [
    "@st.cache(allow_output_mutation=True)\n",
    "def setup():\n",
    "    return "
   ]
  }
 ],
 "metadata": {
  "language_info": {
   "name": "python"
  },
  "orig_nbformat": 4
 },
 "nbformat": 4,
 "nbformat_minor": 2
}
