{
 "cells": [
  {
   "cell_type": "code",
   "execution_count": null,
   "metadata": {},
   "outputs": [],
   "source": [
    "# Imports\n",
    "import pandas as pd"
   ]
  },
  {
   "cell_type": "markdown",
   "metadata": {},
   "source": [
    "# Character Class"
   ]
  },
  {
   "cell_type": "code",
   "execution_count": null,
   "metadata": {},
   "outputs": [],
   "source": [
    "class Character:\n",
    "    name : str\n",
    "    health : int\n",
    "    initiative : int\n",
    "    data : dict\n",
    "    \n",
    "    def __init__(self):\n",
    "        self.name = \"\"\n",
    "        self.health = 0\n",
    "        self.initiative = 0\n",
    "        self.data = {}\n",
    "    def __init__(self,name,health,initiative,data):\n",
    "        self.name = name\n",
    "        self.health = health\n",
    "        self.initiative = initiative\n",
    "        self.data = data"
   ]
  },
  {
   "cell_type": "markdown",
   "metadata": {},
   "source": [
    "# GroupLoop Class"
   ]
  },
  {
   "cell_type": "code",
   "execution_count": null,
   "metadata": {},
   "outputs": [],
   "source": [
    "class GroupLoop:\n",
    "    group : pd.DataFrame\n",
    "    name : str\n",
    "\n",
    "    def __init__(self):\n",
    "        self.group = pd.DataFrame()\n",
    "        self.name = \"Unnamed Group\"\n",
    "    def __init__(self, list_of_characters,group_name):\n",
    "        self.group = pd.DataFrame(list_of_characters)\n",
    "        self.name = group_name\n",
    "    def set_next_group(self, next_group):\n",
    "        self.next_group = next_group"
   ]
  }
 ],
 "metadata": {
  "kernelspec": {
   "display_name": "Python 3.10.2 64-bit",
   "language": "python",
   "name": "python3"
  },
  "language_info": {
   "name": "python",
   "version": "3.10.2"
  },
  "orig_nbformat": 4,
  "vscode": {
   "interpreter": {
    "hash": "26de051ba29f2982a8de78e945f0abaf191376122a1563185a90213a26c5da77"
   }
  }
 },
 "nbformat": 4,
 "nbformat_minor": 2
}
