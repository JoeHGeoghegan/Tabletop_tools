{
 "cells": [
  {
   "cell_type": "markdown",
   "metadata": {},
   "source": []
  },
  {
   "cell_type": "code",
   "execution_count": 2,
   "metadata": {},
   "outputs": [],
   "source": [
    "# Imports\n",
    "import pandas as pd\n",
    "import numpy as np\n",
    "import random"
   ]
  },
  {
   "cell_type": "markdown",
   "metadata": {},
   "source": [
    "# Tests"
   ]
  },
  {
   "cell_type": "code",
   "execution_count": 3,
   "metadata": {},
   "outputs": [
    {
     "data": {
      "text/html": [
       "<div>\n",
       "<style scoped>\n",
       "    .dataframe tbody tr th:only-of-type {\n",
       "        vertical-align: middle;\n",
       "    }\n",
       "\n",
       "    .dataframe tbody tr th {\n",
       "        vertical-align: top;\n",
       "    }\n",
       "\n",
       "    .dataframe thead th {\n",
       "        text-align: right;\n",
       "    }\n",
       "</style>\n",
       "<table border=\"1\" class=\"dataframe\">\n",
       "  <thead>\n",
       "    <tr style=\"text-align: right;\">\n",
       "      <th></th>\n",
       "      <th>name</th>\n",
       "      <th>health</th>\n",
       "      <th>armor_class</th>\n",
       "      <th>initiative</th>\n",
       "      <th>initiative_bonus</th>\n",
       "      <th>team</th>\n",
       "      <th>group</th>\n",
       "    </tr>\n",
       "  </thead>\n",
       "  <tbody>\n",
       "  </tbody>\n",
       "</table>\n",
       "</div>"
      ],
      "text/plain": [
       "Empty DataFrame\n",
       "Columns: [name, health, armor_class, initiative, initiative_bonus, team, group]\n",
       "Index: []"
      ]
     },
     "execution_count": 3,
     "metadata": {},
     "output_type": "execute_result"
    }
   ],
   "source": [
    "headers = [\"name\",\"health\",\"armor_class\",\"initiative\",\"initiative_bonus\",\"team\",\"group\"]\n",
    "turn_track = pd.DataFrame(columns=headers)\n",
    "turn_track"
   ]
  },
  {
   "cell_type": "code",
   "execution_count": 4,
   "metadata": {},
   "outputs": [
    {
     "data": {
      "text/html": [
       "<div>\n",
       "<style scoped>\n",
       "    .dataframe tbody tr th:only-of-type {\n",
       "        vertical-align: middle;\n",
       "    }\n",
       "\n",
       "    .dataframe tbody tr th {\n",
       "        vertical-align: top;\n",
       "    }\n",
       "\n",
       "    .dataframe thead th {\n",
       "        text-align: right;\n",
       "    }\n",
       "</style>\n",
       "<table border=\"1\" class=\"dataframe\">\n",
       "  <thead>\n",
       "    <tr style=\"text-align: right;\">\n",
       "      <th></th>\n",
       "      <th>name</th>\n",
       "      <th>health</th>\n",
       "      <th>armor_class</th>\n",
       "      <th>initiative</th>\n",
       "      <th>initiative_bonus</th>\n",
       "      <th>team</th>\n",
       "      <th>group</th>\n",
       "    </tr>\n",
       "  </thead>\n",
       "  <tbody>\n",
       "    <tr>\n",
       "      <th>0</th>\n",
       "      <td>Mr.</td>\n",
       "      <td>56</td>\n",
       "      <td>20</td>\n",
       "      <td>15</td>\n",
       "      <td>2</td>\n",
       "      <td>Heroes</td>\n",
       "      <td>Alone</td>\n",
       "    </tr>\n",
       "  </tbody>\n",
       "</table>\n",
       "</div>"
      ],
      "text/plain": [
       "  name health armor_class initiative initiative_bonus    team  group\n",
       "0  Mr.     56          20         15                2  Heroes  Alone"
      ]
     },
     "execution_count": 4,
     "metadata": {},
     "output_type": "execute_result"
    }
   ],
   "source": [
    "character = {\n",
    "    \"name\":\"Mr.\",\n",
    "    \"health\":56,\n",
    "    \"armor_class\":20,\n",
    "    \"initiative\": 15,\n",
    "    \"initiative_bonus\":2,\n",
    "    \"team\":\"Heroes\",\n",
    "    \"group\":\"Alone\"\n",
    "}\n",
    "turn_track.append(character,ignore_index=True)\n"
   ]
  },
  {
   "cell_type": "code",
   "execution_count": 5,
   "metadata": {},
   "outputs": [
    {
     "data": {
      "text/html": [
       "<div>\n",
       "<style scoped>\n",
       "    .dataframe tbody tr th:only-of-type {\n",
       "        vertical-align: middle;\n",
       "    }\n",
       "\n",
       "    .dataframe tbody tr th {\n",
       "        vertical-align: top;\n",
       "    }\n",
       "\n",
       "    .dataframe thead th {\n",
       "        text-align: right;\n",
       "    }\n",
       "</style>\n",
       "<table border=\"1\" class=\"dataframe\">\n",
       "  <thead>\n",
       "    <tr style=\"text-align: right;\">\n",
       "      <th></th>\n",
       "      <th>name</th>\n",
       "      <th>armor_class</th>\n",
       "    </tr>\n",
       "  </thead>\n",
       "  <tbody>\n",
       "    <tr>\n",
       "      <th>0</th>\n",
       "      <td>Mrs.</td>\n",
       "      <td>200</td>\n",
       "    </tr>\n",
       "  </tbody>\n",
       "</table>\n",
       "</div>"
      ],
      "text/plain": [
       "   name armor_class\n",
       "0  Mrs.         200"
      ]
     },
     "execution_count": 5,
     "metadata": {},
     "output_type": "execute_result"
    }
   ],
   "source": [
    "headers = [\"name\",\"health\",\"armor_class\"]\n",
    "filter_track = pd.DataFrame(columns=headers)\n",
    "character = {\n",
    "    \"name\":\"Mrs.\",\n",
    "    \"health\":568,\n",
    "    \"armor_class\":200\n",
    "}\n",
    "filter_track = filter_track.append(character,ignore_index=True)\n",
    "# filter_track\n",
    "filter_track[filter_track.columns[[True,False,True]]]"
   ]
  },
  {
   "cell_type": "code",
   "execution_count": 6,
   "metadata": {},
   "outputs": [],
   "source": [
    "party1 = pd.read_csv(\".\\Party1.csv\")\n",
    "party1[\"group\"] = np.nan"
   ]
  },
  {
   "cell_type": "code",
   "execution_count": 7,
   "metadata": {},
   "outputs": [],
   "source": [
    "def read_import(path,import_groups=True):\n",
    "    party = pd.read_csv(path)\n",
    "    if import_groups and ('group' in list(party)):\n",
    "        return party\n",
    "    else:\n",
    "        party[\"group\"] = np.nan\n",
    "        return party\n",
    "party2=read_import(\".\\Party2.csv\")\n",
    "# party2"
   ]
  },
  {
   "cell_type": "code",
   "execution_count": 8,
   "metadata": {},
   "outputs": [],
   "source": [
    "def initiative_based_group_assignment(groups:pd.DataFrame):\n",
    "    df = groups.copy()\n",
    "    df['total_initiative'] = df['initiative']+df['initiative_bonus']\n",
    "    df.sort_values(by='total_initiative',ascending=False,inplace=True)\n",
    "    df_count = {}\n",
    "    team_order = df['team']\n",
    "    group_placement = []\n",
    "    lastTeam = None\n",
    "    for team in team_order:\n",
    "        if team != lastTeam :\n",
    "            if team in df_count.keys() :\n",
    "                df_count[team]+=1\n",
    "            else :\n",
    "                df_count[team]=1\n",
    "            lastTeam = team\n",
    "        group_placement.append(f\"{team} {df_count[team]}\")\n",
    "    df['group']=group_placement\n",
    "    return df.drop(columns=\"total_initiative\")\n",
    "party2_grouped = initiative_based_group_assignment(party2)\n",
    "# party2_grouped"
   ]
  },
  {
   "cell_type": "code",
   "execution_count": 9,
   "metadata": {},
   "outputs": [],
   "source": [
    "def roll(sided=20):\n",
    "    return random.randint(1,sided)\n",
    "\n",
    "def auto_initiative(groups:pd.DataFrame):\n",
    "    df = groups.copy()\n",
    "    df['initiative'] = df['initiative'].apply(lambda x: roll(20))\n",
    "    return df\n",
    "party2_random_init = auto_initiative(party2)\n",
    "party2_random_init_grouped = initiative_based_group_assignment(party2_random_init)\n",
    "# party2_random_init_grouped"
   ]
  },
  {
   "cell_type": "code",
   "execution_count": 10,
   "metadata": {},
   "outputs": [],
   "source": [
    "def groups_list(turn_track:pd.DataFrame):\n",
    "    return(turn_track['group'].unique())\n",
    "# groups_list(party2_random_init_grouped)"
   ]
  },
  {
   "cell_type": "code",
   "execution_count": 11,
   "metadata": {},
   "outputs": [],
   "source": [
    "def df_match_slice(df:pd.DataFrame,column,match):\n",
    "    return df[df[column]==match]\n",
    "group_to_split_df = df_match_slice(party2_random_init_grouped,'group','Stark 3')\n",
    "# for member in group_to_split_df.index:\n",
    "#     print(type(member))"
   ]
  },
  {
   "cell_type": "code",
   "execution_count": 12,
   "metadata": {},
   "outputs": [],
   "source": [
    "party2_change_init = party2_random_init_grouped.copy()\n",
    "character_selected = 'Eddard \"Ned\" Stark'\n",
    "party2_change_init.loc[(party2_change_init['name'] == character_selected,'initiative')]=24\n",
    "# party2_change_init"
   ]
  },
  {
   "cell_type": "code",
   "execution_count": 13,
   "metadata": {},
   "outputs": [],
   "source": [
    "def df_set_match_slice(df:pd.DataFrame,column,match,new_data):\n",
    "    df_slice = df[df[column] == match].copy()\n",
    "    df_slice[column] = new_data\n",
    "    df_copy = df.copy()\n",
    "    df_copy.update(df_slice)\n",
    "    return df_copy\n",
    "# group_to_split_df = df_set_match_slice(party2_random_init_grouped,'group','Targaryen 1',['Test1','Test2'])\n",
    "# group_to_split_df"
   ]
  },
  {
   "cell_type": "code",
   "execution_count": 14,
   "metadata": {},
   "outputs": [
    {
     "data": {
      "text/plain": [
       "pandas.core.frame.DataFrame"
      ]
     },
     "execution_count": 14,
     "metadata": {},
     "output_type": "execute_result"
    }
   ],
   "source": [
    "type(group_to_split_df)"
   ]
  },
  {
   "cell_type": "code",
   "execution_count": 38,
   "metadata": {},
   "outputs": [
    {
     "name": "stdout",
     "output_type": "stream",
     "text": [
      "Empty DataFrame\n",
      "Columns: [name, group]\n",
      "Index: []\n",
      "                 name       group\n",
      "0  Eddard \"Ned\" Stark  Winterfell\n",
      "1       Catelyn Stark  Winterfell\n",
      "2          Robb Stark  Winterfell\n",
      "3         Sansa Stark  Winterfell\n",
      "4          Arya Stark  Winterfell\n",
      "                 name          group\n",
      "0    Robert Baratheon  Kings Landing\n",
      "1     Jaime Lannister  Kings Landing\n",
      "2    Cersei Lannister  Kings Landing\n",
      "3  Daenerys Targaryen   Nights Watch\n",
      "4       Jorah Mormont   Nights Watch\n",
      "5   Viserys Targaryen   Nights Watch\n",
      "6            Jon Snow   Nights Watch\n"
     ]
    },
    {
     "data": {
      "text/html": [
       "<div>\n",
       "<style scoped>\n",
       "    .dataframe tbody tr th:only-of-type {\n",
       "        vertical-align: middle;\n",
       "    }\n",
       "\n",
       "    .dataframe tbody tr th {\n",
       "        vertical-align: top;\n",
       "    }\n",
       "\n",
       "    .dataframe thead th {\n",
       "        text-align: right;\n",
       "    }\n",
       "</style>\n",
       "<table border=\"1\" class=\"dataframe\">\n",
       "  <thead>\n",
       "    <tr style=\"text-align: right;\">\n",
       "      <th></th>\n",
       "      <th>name</th>\n",
       "      <th>health</th>\n",
       "      <th>armor_class</th>\n",
       "      <th>initiative</th>\n",
       "      <th>initiative_bonus</th>\n",
       "      <th>team</th>\n",
       "      <th>group</th>\n",
       "      <th>attributes</th>\n",
       "    </tr>\n",
       "  </thead>\n",
       "  <tbody>\n",
       "    <tr>\n",
       "      <th>0</th>\n",
       "      <td>Eddard \"Ned\" Stark</td>\n",
       "      <td>90</td>\n",
       "      <td>13</td>\n",
       "      <td>1</td>\n",
       "      <td>3</td>\n",
       "      <td>Stark</td>\n",
       "      <td>Winterfell</td>\n",
       "      <td>NaN</td>\n",
       "    </tr>\n",
       "    <tr>\n",
       "      <th>1</th>\n",
       "      <td>Catelyn Stark</td>\n",
       "      <td>90</td>\n",
       "      <td>16</td>\n",
       "      <td>3</td>\n",
       "      <td>3</td>\n",
       "      <td>Stark</td>\n",
       "      <td>Winterfell</td>\n",
       "      <td>NaN</td>\n",
       "    </tr>\n",
       "    <tr>\n",
       "      <th>2</th>\n",
       "      <td>Robb Stark</td>\n",
       "      <td>90</td>\n",
       "      <td>16</td>\n",
       "      <td>10</td>\n",
       "      <td>3</td>\n",
       "      <td>Stark</td>\n",
       "      <td>Winterfell</td>\n",
       "      <td>NaN</td>\n",
       "    </tr>\n",
       "    <tr>\n",
       "      <th>3</th>\n",
       "      <td>Sansa Stark</td>\n",
       "      <td>90</td>\n",
       "      <td>16</td>\n",
       "      <td>10</td>\n",
       "      <td>3</td>\n",
       "      <td>Stark</td>\n",
       "      <td>Winterfell</td>\n",
       "      <td>NaN</td>\n",
       "    </tr>\n",
       "    <tr>\n",
       "      <th>4</th>\n",
       "      <td>Arya Stark</td>\n",
       "      <td>90</td>\n",
       "      <td>16</td>\n",
       "      <td>10</td>\n",
       "      <td>3</td>\n",
       "      <td>Stark</td>\n",
       "      <td>Winterfell</td>\n",
       "      <td>NaN</td>\n",
       "    </tr>\n",
       "    <tr>\n",
       "      <th>5</th>\n",
       "      <td>Robert Baratheon</td>\n",
       "      <td>90</td>\n",
       "      <td>16</td>\n",
       "      <td>12</td>\n",
       "      <td>3</td>\n",
       "      <td>Stark</td>\n",
       "      <td>Kings Landing</td>\n",
       "      <td>NaN</td>\n",
       "    </tr>\n",
       "    <tr>\n",
       "      <th>6</th>\n",
       "      <td>Jaime Lannister</td>\n",
       "      <td>90</td>\n",
       "      <td>16</td>\n",
       "      <td>14</td>\n",
       "      <td>3</td>\n",
       "      <td>Lannister</td>\n",
       "      <td>Kings Landing</td>\n",
       "      <td>NaN</td>\n",
       "    </tr>\n",
       "    <tr>\n",
       "      <th>7</th>\n",
       "      <td>Cersei Lannister</td>\n",
       "      <td>90</td>\n",
       "      <td>16</td>\n",
       "      <td>4</td>\n",
       "      <td>3</td>\n",
       "      <td>Lannister</td>\n",
       "      <td>Kings Landing</td>\n",
       "      <td>NaN</td>\n",
       "    </tr>\n",
       "    <tr>\n",
       "      <th>8</th>\n",
       "      <td>Daenerys Targaryen</td>\n",
       "      <td>90</td>\n",
       "      <td>16</td>\n",
       "      <td>5</td>\n",
       "      <td>3</td>\n",
       "      <td>Targaryen</td>\n",
       "      <td>Nights Watch</td>\n",
       "      <td>NaN</td>\n",
       "    </tr>\n",
       "    <tr>\n",
       "      <th>9</th>\n",
       "      <td>Jorah Mormont</td>\n",
       "      <td>90</td>\n",
       "      <td>16</td>\n",
       "      <td>6</td>\n",
       "      <td>3</td>\n",
       "      <td>Targaryen</td>\n",
       "      <td>Nights Watch</td>\n",
       "      <td>NaN</td>\n",
       "    </tr>\n",
       "    <tr>\n",
       "      <th>10</th>\n",
       "      <td>Viserys Targaryen</td>\n",
       "      <td>90</td>\n",
       "      <td>16</td>\n",
       "      <td>7</td>\n",
       "      <td>3</td>\n",
       "      <td>Targaryen</td>\n",
       "      <td>Nights Watch</td>\n",
       "      <td>NaN</td>\n",
       "    </tr>\n",
       "    <tr>\n",
       "      <th>11</th>\n",
       "      <td>Jon Snow</td>\n",
       "      <td>90</td>\n",
       "      <td>16</td>\n",
       "      <td>10</td>\n",
       "      <td>3</td>\n",
       "      <td>Stark</td>\n",
       "      <td>Nights Watch</td>\n",
       "      <td>NaN</td>\n",
       "    </tr>\n",
       "  </tbody>\n",
       "</table>\n",
       "</div>"
      ],
      "text/plain": [
       "                  name  health  armor_class  initiative  initiative_bonus  \\\n",
       "0   Eddard \"Ned\" Stark      90           13           1                 3   \n",
       "1        Catelyn Stark      90           16           3                 3   \n",
       "2           Robb Stark      90           16          10                 3   \n",
       "3          Sansa Stark      90           16          10                 3   \n",
       "4           Arya Stark      90           16          10                 3   \n",
       "5     Robert Baratheon      90           16          12                 3   \n",
       "6      Jaime Lannister      90           16          14                 3   \n",
       "7     Cersei Lannister      90           16           4                 3   \n",
       "8   Daenerys Targaryen      90           16           5                 3   \n",
       "9        Jorah Mormont      90           16           6                 3   \n",
       "10   Viserys Targaryen      90           16           7                 3   \n",
       "11            Jon Snow      90           16          10                 3   \n",
       "\n",
       "         team          group  attributes  \n",
       "0       Stark     Winterfell         NaN  \n",
       "1       Stark     Winterfell         NaN  \n",
       "2       Stark     Winterfell         NaN  \n",
       "3       Stark     Winterfell         NaN  \n",
       "4       Stark     Winterfell         NaN  \n",
       "5       Stark  Kings Landing         NaN  \n",
       "6   Lannister  Kings Landing         NaN  \n",
       "7   Lannister  Kings Landing         NaN  \n",
       "8   Targaryen   Nights Watch         NaN  \n",
       "9   Targaryen   Nights Watch         NaN  \n",
       "10  Targaryen   Nights Watch         NaN  \n",
       "11      Stark   Nights Watch         NaN  "
      ]
     },
     "execution_count": 38,
     "metadata": {},
     "output_type": "execute_result"
    }
   ],
   "source": [
    "def move_group(groups:pd.DataFrame,group_to_move,before_or_after,group_to_place):\n",
    "    df = groups.copy()\n",
    "    df.reset_index(drop=True,inplace=True)\n",
    "    slice_group_to_move = df[df['group']==group_to_move].copy()\n",
    "    df.drop(slice_group_to_move.index,inplace=True)\n",
    "    df.reset_index(drop=True,inplace=True)\n",
    "    slice_group_to_move.reset_index(drop=True,inplace=True)\n",
    "    if before_or_after == \"Before\" :\n",
    "        index_split_point = (df[df['group']==group_to_place].index[0]) #first index\n",
    "    else :\n",
    "        index_split_point = df[df['group']==group_to_place].index[-1]+1 #last index\n",
    "    return pd.concat([df.iloc[:index_split_point],slice_group_to_move,df.iloc[index_split_point:]]).reset_index(drop=True)\n",
    "move_test = party2_random_init_grouped.copy()\n",
    "# move_test\n",
    "# move_group(move_test,\"Stark 3\",\"Before\",\"Stark 1\")"
   ]
  },
  {
   "cell_type": "code",
   "execution_count": 18,
   "metadata": {},
   "outputs": [],
   "source": [
    "def move_character(groups:pd.DataFrame,person_to_move,destination_group):\n",
    "    df = groups.copy()\n",
    "    df.reset_index(drop=True,inplace=True)\n",
    "    slice_character_to_move = df[df['name']==person_to_move].copy()\n",
    "    slice_character_to_move['group']=destination_group\n",
    "    df.drop(slice_character_to_move.index,inplace=True)\n",
    "    index_split_point = df[df['group']==destination_group].index[-1]+1 #last index\n",
    "    return pd.concat([df.iloc[:index_split_point],slice_character_to_move,df.iloc[index_split_point:]]).reset_index(drop=True)\n",
    "move_char_test = party2_random_init_grouped.copy()\n",
    "# move_test\n",
    "# move_character(move_test,\"Arya Stark\",\"Stark 2\")"
   ]
  },
  {
   "cell_type": "code",
   "execution_count": 19,
   "metadata": {},
   "outputs": [],
   "source": [
    "def move_character_to_new_group(groups:pd.DataFrame,person_to_move,new_group_name):\n",
    "    df = groups.copy()\n",
    "    old_group=df.loc[(df[\"name\"]==person_to_move,\"group\")].values[0]\n",
    "    df.loc[(df[\"name\"]==person_to_move,\"group\")]=new_group_name\n",
    "    if df[df['group']==old_group].empty :\n",
    "        return df # If character was the only member of a group, no need to rearrange\n",
    "    return move_group(df,new_group_name,\"After\",old_group)\n",
    "move_char_new_group_test = party2_random_init_grouped.copy()\n",
    "\n",
    "# move_character_to_new_group(move_char_new_group_test,\"Cersei Lannister\",\"Kinda Annoying\")\n"
   ]
  },
  {
   "cell_type": "code",
   "execution_count": 20,
   "metadata": {},
   "outputs": [],
   "source": [
    "def merge_groups(groups:pd.DataFrame,merge_group_1,merge_group_2,merged_name):\n",
    "    df = groups.copy()\n",
    "    df = move_group(df,merge_group_1,\"After\",merge_group_2)\n",
    "    df['group'].replace([merge_group_1,merge_group_2],[merged_name,merged_name],inplace=True)\n",
    "    return df\n",
    "\n",
    "merge_test = party2_random_init_grouped.copy()\n",
    "# merge_test\n",
    "# merge_groups(merge_test,\"Targaryen 1\",\"Targaryen 2\",\"Taco Tuesday\")"
   ]
  },
  {
   "cell_type": "code",
   "execution_count": 43,
   "metadata": {},
   "outputs": [
    {
     "data": {
      "text/plain": [
       "array(['Kings Landing', 'Nights Watch'], dtype=object)"
      ]
     },
     "execution_count": 43,
     "metadata": {},
     "output_type": "execute_result"
    }
   ],
   "source": [
    "groups_list(party2)[groups_list(party2)!='Winterfell']"
   ]
  },
  {
   "cell_type": "markdown",
   "metadata": {},
   "source": [
    "# Possible Classes"
   ]
  },
  {
   "cell_type": "code",
   "execution_count": 21,
   "metadata": {},
   "outputs": [],
   "source": [
    "class Character:\n",
    "    name : str\n",
    "    health : int\n",
    "    initiative : int\n",
    "    team : str\n",
    "    \n",
    "    def __init__(self):\n",
    "        self.name = \"\"\n",
    "        self.health = 0\n",
    "        self.initiative = 0\n",
    "        self.team = None\n",
    "    def __init__(self,name,health,initiative,team):\n",
    "        self.name = name\n",
    "        self.health = health\n",
    "        self.initiative = initiative\n",
    "        self.team = team"
   ]
  },
  {
   "cell_type": "code",
   "execution_count": 22,
   "metadata": {},
   "outputs": [],
   "source": [
    "class GroupLoop:\n",
    "    group : pd.DataFrame\n",
    "    name : str\n",
    "\n",
    "    def __init__(self):\n",
    "        self.group = pd.DataFrame()\n",
    "        self.name = \"Unnamed Group\"\n",
    "    def __init__(self, list_of_characters,group_name):\n",
    "        self.group = pd.DataFrame(list_of_characters)\n",
    "        self.name = group_name\n",
    "    def set_next_group(self, next_group):\n",
    "        self.next_group = next_group"
   ]
  }
 ],
 "metadata": {
  "kernelspec": {
   "display_name": "Python 3.7.11 ('base')",
   "language": "python",
   "name": "python3"
  },
  "language_info": {
   "codemirror_mode": {
    "name": "ipython",
    "version": 3
   },
   "file_extension": ".py",
   "mimetype": "text/x-python",
   "name": "python",
   "nbconvert_exporter": "python",
   "pygments_lexer": "ipython3",
   "version": "3.7.11"
  },
  "orig_nbformat": 4,
  "vscode": {
   "interpreter": {
    "hash": "60051db9b49e7622da472558d5c9910b644d729726c3e885e40a692d81c6b654"
   }
  }
 },
 "nbformat": 4,
 "nbformat_minor": 2
}
